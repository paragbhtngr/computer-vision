{
 "cells": [
  {
   "cell_type": "code",
   "execution_count": 2,
   "metadata": {
    "collapsed": false
   },
   "outputs": [
    {
     "name": "stdout",
     "output_type": "stream",
     "text": [
      "Populating the interactive namespace from numpy and matplotlib\n"
     ]
    }
   ],
   "source": [
    "%pylab inline\n",
    "\n",
    "import numpy as np\n",
    "from tqdm import *\n",
    "from matplotlib import pyplot as plt\n",
    "\n",
    "\n",
    "class MLP(object):\n",
    "    \n",
    "    def __init__ (self, input_size, output_size, num_layers, num_neurons, learning_rate):\n",
    "        # Set hyperparameters for MLP        \n",
    "        self.input_size = input_size\n",
    "        self.output_size = output_size\n",
    "        self.learning_rate = learning_rate\n",
    "\n",
    "        self.num_layers = num_layers\n",
    "        self.num_neurons = num_neurons\n",
    "        \n",
    "        # Create the matrix of neurons\n",
    "        self.weights = []\n",
    "        self.bias = []\n",
    "        \n",
    "        # Set weights and biases from input to first HL\n",
    "        self.weights.append(self.get_weights(num_neurons, input_size))\n",
    "        self.bias.append(self.get_weights(num_neurons, 1))\n",
    "        \n",
    "        # Set weights and biases for the next HLs\n",
    "        for i in xrange(1, num_layers):\n",
    "            self.weights.append(self.get_weights(num_neurons, num_neurons))\n",
    "            self.bias.append(self.get_weights(num_neurons, 1))\n",
    "        \n",
    "        # Set weights and biases from last HL to output\n",
    "        self.weights.append(self.get_weights(output_size, num_neurons))\n",
    "        self.bias.append(self.get_weights(output_size, 1))\n",
    "        \n",
    "        # Set rest of the params\n",
    "        self.sigmoid = np.vectorize(self.sigmoid)\n",
    "        self.sigmoid_prime = np.vectorize(self.sigmoid_prime)\n",
    "    #end init\n",
    "    \n",
    "    def get_weights(self,x,y):\n",
    "        return np.random.normal(0,1,(x,y))\n",
    "    #end get_weights\n",
    "        \n",
    "    def sigmoid(self, z):\n",
    "        e_z = np.exp(-z)\n",
    "        output = 1.0/(1.0 + e_z)\n",
    "        return output\n",
    "    #end sigmoid\n",
    "    \n",
    "    def sigmoid_prime(self, z):\n",
    "        e_z = np.exp(-z)\n",
    "        output = e_z/((1.0 + e_z)**2)\n",
    "        return output\n",
    "    #end sigmoid_prime\n",
    "    \n",
    "    def feed_forward(self, mlp_input):\n",
    "        A = []\n",
    "        Z = []\n",
    "        output = mlp_input\n",
    "        for i in xrange(0, len(self.weights)):          # For each layer of MLP\n",
    "            \n",
    "#             print(\"INPUT\")\n",
    "#             print output\n",
    "        \n",
    "#             print(\"WEIGHTS\")\n",
    "#             print(self.weights[i])\n",
    "            out_len = len(output)\n",
    "            output = np.dot(self.weights[i], output) # Multiply by the weights\n",
    "            output = output/out_len\n",
    "#             print output\n",
    "            \n",
    "#             print(\"BIAS\")\n",
    "#             print(self.bias[i])\n",
    "            output += self.bias[i]                   # Add the biases\n",
    "            \n",
    "            Z.append(output)\n",
    "            output = self.sigmoid(output)            # Perform sigmoid function all\n",
    "                                                     # elements of the resultant matrix\n",
    "            A.append(output)\n",
    "            \n",
    "        return Z, A, output\n",
    "    # end feed forward\n",
    "    \n",
    "    def back_prop(self, n, mlp_input, Z, A, mlp_out, mlp_ground):\n",
    "        delta = np.multiply((mlp_out - mlp_ground),self.sigmoid_prime(Z[len(Z)-1])) \n",
    "        deltas = [delta]\n",
    "        for i in reversed(xrange(0,len(self.weights)-1)):\n",
    "            delta = np.multiply(np.dot(np.transpose(self.weights[i+1]),delta),self.sigmoid_prime(Z[i]))\n",
    "            deltas.insert(0,delta)\n",
    "        A.insert(0,mlp_input)\n",
    "        for i in reversed(xrange(0,len(self.weights))):\n",
    "            self.weights[i] = self.weights[i] - (self.learning_rate/n)*(np.dot(deltas[i],np.transpose(A[i])))\n",
    "            tmp = np.mean(deltas[i],axis=1)\n",
    "            tmp = np.matrix(tmp)\n",
    "            tmp = np.transpose(tmp)\n",
    "            self.bias[i] = self.bias[i] - ((self.learning_rate/n)*tmp)\n",
    "    # end back_prop\n",
    "    \n",
    "    def train(self, n, mlp_input, mlp_ground):\n",
    "        Z,A,mlp_out = self.feed_forward(mlp_input)\n",
    "        self.back_prop(n, mlp_input, Z, A, mlp_out, mlp_ground)    \n",
    "        return np.mean(abs(mlp_ground - mlp_out))\n",
    "    # end train\n",
    "        \n",
    "                            \n",
    "#     def toString(self):\n",
    "#         print \"PERCEPTRON STRUCTURE:\"\n",
    "#         print \"weights: \"\n",
    "#         print self.weights\n",
    "#         print \"bias: \"\n",
    "#         print self.bias\n",
    "#         return \" \"\n",
    "        "
   ]
  },
  {
   "cell_type": "code",
   "execution_count": 4,
   "metadata": {
    "collapsed": false
   },
   "outputs": [
    {
     "name": "stderr",
     "output_type": "stream",
     "text": [
      "100%|██████████████████████████████████████████████████████████████████████████| 10000/10000 [00:02<00:00, 4040.40it/s]"
     ]
    },
    {
     "name": "stdout",
     "output_type": "stream",
     "text": [
      "FINAL MLP OUTPUT AFTER EPOCH:\n",
      "TRAINED      :  [[ 0.00544923  0.99504783  0.99504814  0.00625011]]\n",
      "GROUND TRUTH :  [[0 1 1 0]]\n"
     ]
    },
    {
     "name": "stderr",
     "output_type": "stream",
     "text": [
      "\n"
     ]
    },
    {
     "data": {
      "text/plain": [
       "[<matplotlib.lines.Line2D at 0x7c4fbe0>]"
      ]
     },
     "execution_count": 4,
     "metadata": {},
     "output_type": "execute_result"
    },
    {
     "data": {
      "image/png": "[encoded data removed]",
      "text/plain": [
       "<matplotlib.figure.Figure at 0x78a5160>"
      ]
     },
     "metadata": {},
     "output_type": "display_data"
    }
   ],
   "source": [
    "# XOR_INPUT = [[0,0,1,1],\n",
    "#              [0,1,0,1]]\n",
    "# XOR_OUTPUT = [0,1,1,0]\n",
    "\n",
    "XOR_INPUT = np.transpose(np.array([[0,0],[0,1],[1,0],[1,1]]))\n",
    "XOR_OUTPUT =  np.transpose(np.array([[0],[1],[1],[0]]))\n",
    "XOR_N = len(XOR_INPUT)\n",
    "\n",
    "epoch_time = 10000\n",
    "\n",
    "# input_size = 2\n",
    "# output_size = 1\n",
    "# num_layers = 1\n",
    "# num_neurons = 3\n",
    "# learning_rate = 20.0\n",
    "mlp = MLP(2, 1, 1, 3, 20.0)\n",
    "\n",
    "results = []\n",
    "for i in tqdm(xrange(epoch_time)):\n",
    "    results.append(mlp.train(XOR_N, XOR_INPUT,XOR_OUTPUT))\n",
    "\n",
    "print \"FINAL MLP OUTPUT AFTER EPOCH:\"\n",
    "print \"TRAINED      : \", mlp.feed_forward(XOR_INPUT)[2]\n",
    "print \"GROUND TRUTH : \", XOR_OUTPUT\n",
    "\n",
    "plot(results)    \n",
    "\n",
    "# print \"\\n\\nMLP OUTPUT: \\n\", mlp_out\n",
    "# print \"Z\\n\",Z\n",
    "# print \"A\\n\",A\n",
    "\n"
   ]
  },
  {
   "cell_type": "code",
   "execution_count": 10,
   "metadata": {
    "collapsed": false
   },
   "outputs": [
    {
     "data": {
      "text/plain": [
       "(2L, 1L)"
      ]
     },
     "execution_count": 10,
     "metadata": {},
     "output_type": "execute_result"
    }
   ],
   "source": [
    "np.array([[0,],[0,]]).shape"
   ]
  },
  {
   "cell_type": "code",
   "execution_count": 11,
   "metadata": {
    "collapsed": false
   },
   "outputs": [
    {
     "data": {
      "text/plain": [
       "array([[ 0.00544923]])"
      ]
     },
     "execution_count": 11,
     "metadata": {},
     "output_type": "execute_result"
    }
   ],
   "source": [
    "mlp.feed_forward([[0,],[0,]])[2]"
   ]
  },
  {
   "cell_type": "code",
   "execution_count": null,
   "metadata": {
    "collapsed": true
   },
   "outputs": [],
   "source": []
  },
  {
   "cell_type": "code",
   "execution_count": null,
   "metadata": {
    "collapsed": false
   },
   "outputs": [],
   "source": []
  },
  {
   "cell_type": "code",
   "execution_count": null,
   "metadata": {
    "collapsed": false
   },
   "outputs": [],
   "source": []
  }
 ],
 "metadata": {
  "kernelspec": {
   "display_name": "Python 2",
   "language": "python",
   "name": "python2"
  },
  "language_info": {
   "codemirror_mode": {
    "name": "ipython",
    "version": 2
   },
   "file_extension": ".py",
   "mimetype": "text/x-python",
   "name": "python",
   "nbconvert_exporter": "python",
   "pygments_lexer": "ipython2",
   "version": "2.7.12"
  }
 },
 "nbformat": 4,
 "nbformat_minor": 0
}
