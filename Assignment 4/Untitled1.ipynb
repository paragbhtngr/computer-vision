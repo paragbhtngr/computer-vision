{
 "cells": [
  {
   "cell_type": "code",
   "execution_count": 1,
   "metadata": {
    "collapsed": false
   },
   "outputs": [
    {
     "name": "stdout",
     "output_type": "stream",
     "text": [
      "Populating the interactive namespace from numpy and matplotlib\n"
     ]
    }
   ],
   "source": [
    "%pylab inline\n",
    "import numpy as np\n",
    "from tqdm import *"
   ]
  },
  {
   "cell_type": "code",
   "execution_count": 2,
   "metadata": {
    "collapsed": true
   },
   "outputs": [],
   "source": [
    "class perceptron(object):\n",
    "    def __init__(self, input_size, output_size, hl_neurons, hl_layers, learningrate):\n",
    "        self.learningrate = learningrate\n",
    "        self.input_size = input_size\n",
    "        self.output_size = output_size\n",
    "        self.hl_neurons = hl_neurons\n",
    "        self.hl_layers = hl_layers\n",
    "        \n",
    "        # Now setup the weights in this format (inputs x neurons)\n",
    "        self.weights = []\n",
    "        self.ths = []\n",
    "        self.weights.append(self.get_weights((hl_neurons, input_size)))\n",
    "        self.ths.append(self.get_weights((hl_neurons, 1)))\n",
    "        for i in xrange(1, hl_layers):\n",
    "            self.weights.append(self.get_weights((hl_neurons, hl_neurons)))\n",
    "            self.ths.append(self.get_weights((hl_neurons, 1)))\n",
    "        self.weights.append(self.get_weights((output_size, hl_neurons)))\n",
    "        self.ths.append(self.get_weights((output_size, 1)))\n",
    "        self.delta_func = self.delta_func1\n",
    "        self.sigmoid = np.vectorize(self.sigmoid)\n",
    "        self.sigmoid_delta = np.vectorize(self.sigmoid_delta)\n",
    "        \n",
    "    def get_weights(self, dimensions):\n",
    "        return np.random.normal(0,1,dimensions)\n",
    "        \n",
    "    def delta_func1(self, output, truths):\n",
    "        return (output-truths)\n",
    "    \n",
    "    def sigmoid(self, z):\n",
    "        return 1/(1+np.exp(-z))\n",
    "    \n",
    "    def sigmoid_delta(self, z):\n",
    "        return (np.exp(-z))/((1+np.exp(-z))**2)\n",
    "    \n",
    "    def push_forward(self, inputs):\n",
    "        A = []\n",
    "        Z = []\n",
    "        output = inputs\n",
    "        for i in xrange(0, len(self.weights)):\n",
    "#             print \"performing %f * %f + %f\" % (np.max(self.weights[i]), np.max(output), np.max(self.ths[i]))\n",
    "            normno = len(output)\n",
    "            output = np.dot(self.weights[i], output)\n",
    "            output /= normno\n",
    "#             print \"Dividing by %d neurons\" % normno\n",
    "            output += self.ths[i]\n",
    "            Z.append(output)\n",
    "            output = self.sigmoid(output)\n",
    "            A.append(output)\n",
    "        return A, Z, output\n",
    "    \n",
    "    def feed_forward(self, inputs):\n",
    "        print \"input = %s\" % (inputs)\n",
    "        _, _, output = self.push_forward(inputs)\n",
    "        return output\n",
    "    \n",
    "    def multiply_and_average(self, delta, A):\n",
    "        At = np.transpose(A)\n",
    "        # Multiply the two, see if they're compatible (faster than throwing an exception)\n",
    "        _ = np.dot(delta,At)\n",
    "        ws = []\n",
    "        for i in xrange(0, len(delta[0])):\n",
    "            di = delta[:,[i]]\n",
    "            Ai = At[[i],:]\n",
    "            ws.append(np.dot(di, Ai))\n",
    "        return np.mean(ws,axis=0)\n",
    "    \n",
    "    def train(self, inputs, truths):\n",
    "        # First get the error and delta for output layer\n",
    "        A, Z, output = self.push_forward(inputs)\n",
    "#         curdelta = np.multiply((output - truths),self.sigmoid_delta(Z[len(Z)-1]))\n",
    "        curdelta = np.multiply(self.delta_func(output, truths),self.sigmoid_delta(Z[len(Z)-1]))\n",
    "        deltas = [curdelta]\n",
    "        for i in reversed(xrange(0, len(self.weights)-1)):\n",
    "            curdelta = np.multiply(np.dot(np.transpose(self.weights[i+1]), curdelta),\n",
    "                                   self.sigmoid_delta(Z[i]))\n",
    "            deltas.insert(0, curdelta)        \n",
    "        A.insert(0,inputs)\n",
    "        for i in reversed(xrange(0, len(self.weights))):\n",
    "            self.weights[i] -= (self.learningrate * np.dot(deltas[i], A[i].T))\n",
    "            tmp = np.mean(deltas[i],axis=1)\n",
    "            tmp = np.matrix(tmp)\n",
    "            tmp = tmp.T\n",
    "            try:\n",
    "                self.ths[i] -= (self.learningrate * tmp)\n",
    "            except ValueError:\n",
    "#                 print \"tmp - %s\" % tmp\n",
    "#                 print \"ths - %s\" % self.ths[i]\n",
    "                self.ths[i] -= (self.learningrate * tmp.T)\n",
    "            \n",
    "        return np.mean(abs(truths - output))"
   ]
  },
  {
   "cell_type": "code",
   "execution_count": 3,
   "metadata": {
    "collapsed": true
   },
   "outputs": [],
   "source": [
    "input_XOR = np.transpose(np.array([[0,0],[0,1],[1,0],[1,1]]))\n",
    "gtruth_XOR = np.transpose(np.array([[0],[1],[1],[0]]))\n",
    "input_AND = np.transpose(np.array([[0,0],[0,1],[1,0],[1,1]]))\n",
    "gtruth_AND = np.transpose(np.array([[0],[0],[0],[1]]))"
   ]
  },
  {
   "cell_type": "code",
   "execution_count": 4,
   "metadata": {
    "collapsed": false
   },
   "outputs": [
    {
     "name": "stdout",
     "output_type": "stream",
     "text": [
      "input = [[0 0 1 1]\n",
      " [0 1 0 1]]\n",
      "Final Results: [[ 0.50989372  0.50090598  0.49967721  0.49047048]]\n",
      "Wall time: 279 ms\n"
     ]
    },
    {
     "data": {
      "image/png": "[encoded data removed]",
      "text/plain": [
       "<matplotlib.figure.Figure at 0x4554f98>"
      ]
     },
     "metadata": {},
     "output_type": "display_data"
    }
   ],
   "source": [
    "%%time\n",
    "np.random.seed(1)\n",
    "pp = perceptron(2, 1, 1, 1, 1.0)\n",
    "results = []\n",
    "for i in xrange(0, 1000): results.append(pp.train(input_XOR, gtruth_XOR))\n",
    "plot(results)\n",
    "print \"Final Results: %s\" % pp.feed_forward(input_XOR)"
   ]
  }
 ],
 "metadata": {
  "kernelspec": {
   "display_name": "Python 2",
   "language": "python",
   "name": "python2"
  },
  "language_info": {
   "codemirror_mode": {
    "name": "ipython",
    "version": 2
   },
   "file_extension": ".py",
   "mimetype": "text/x-python",
   "name": "python",
   "nbconvert_exporter": "python",
   "pygments_lexer": "ipython2",
   "version": "2.7.12"
  }
 },
 "nbformat": 4,
 "nbformat_minor": 0
}
