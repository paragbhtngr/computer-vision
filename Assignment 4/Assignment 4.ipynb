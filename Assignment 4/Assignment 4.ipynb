{
 "cells": [
  {
   "cell_type": "code",
   "execution_count": 1,
   "metadata": {
    "collapsed": false
   },
   "outputs": [
    {
     "name": "stdout",
     "output_type": "stream",
     "text": [
      "Populating the interactive namespace from numpy and matplotlib\n"
     ]
    }
   ],
   "source": [
    "%pylab inline\n",
    "\n",
    "import numpy as np\n",
    "from tqdm import *\n",
    "from matplotlib import pyplot as plt\n",
    "\n",
    "\n",
    "class MLP(object):\n",
    "    \n",
    "    def __init__ (self, input_size, output_size, num_layers, num_neurons, learning_rate):\n",
    "        # Set hyperparameters for MLP        \n",
    "        self.input_size = input_size\n",
    "        self.output_size = output_size\n",
    "        self.learning_rate = learning_rate\n",
    "\n",
    "        self.num_layers = num_layers\n",
    "        self.num_neurons = num_neurons\n",
    "        \n",
    "        # Create the matrix of neurons\n",
    "        self.weights = []\n",
    "        self.bias = []\n",
    "        \n",
    "        # Set weights and biases from input to first HL\n",
    "        self.weights.append(self.get_weights(num_neurons, input_size))\n",
    "        self.bias.append(self.get_weights(num_neurons, 1))\n",
    "        \n",
    "        # Set weights and biases for the next HLs\n",
    "        for i in xrange(1, num_layers):\n",
    "            self.weights.append(self.get_weights(num_neurons, num_neurons))\n",
    "            self.bias.append(self.get_weights(num_neurons, 1))\n",
    "        \n",
    "        # Set weights and biases from last HL to output\n",
    "        self.weights.append(self.get_weights(output_size, num_neurons))\n",
    "        self.bias.append(self.get_weights(output_size, 1))\n",
    "        \n",
    "        # Set rest of the params\n",
    "        self.sigmoid = np.vectorize(self.sigmoid)\n",
    "        self.sigmoid_prime = np.vectorize(self.sigmoid_prime)\n",
    "    #end init\n",
    "    \n",
    "    def get_weights(self,x,y):\n",
    "        return np.random.normal(0,1,(x,y))\n",
    "    #end get_weights\n",
    "        \n",
    "    def sigmoid(self, z):\n",
    "        e_z = np.exp(-z)\n",
    "        output = 1.0/(1.0 + e_z)\n",
    "        return output\n",
    "    #end sigmoid\n",
    "    \n",
    "    def sigmoid_prime(self, z):\n",
    "        e_z = np.exp(-z)\n",
    "        output = e_z/((1.0 + e_z)**2)\n",
    "        return output\n",
    "    #end sigmoid_prime\n",
    "    \n",
    "    def feed_forward(self, mlp_input):\n",
    "        A = []\n",
    "        Z = []\n",
    "        output = mlp_input\n",
    "        for i in xrange(0, len(self.weights)):          # For each layer of MLP\n",
    "            \n",
    "#             print(\"INPUT\")\n",
    "#             print output\n",
    "        \n",
    "#             print(\"WEIGHTS\")\n",
    "#             print(self.weights[i])\n",
    "            out_len = len(output)\n",
    "            output = np.dot(self.weights[i], output) # Multiply by the weights\n",
    "            output = output/out_len\n",
    "#             print output\n",
    "            \n",
    "#             print(\"BIAS\")\n",
    "#             print(self.bias[i])\n",
    "            output += self.bias[i]                   # Add the biases\n",
    "            \n",
    "            Z.append(output)\n",
    "            output = self.sigmoid(output)            # Perform sigmoid function all\n",
    "                                                     # elements of the resultant matrix\n",
    "            A.append(output)\n",
    "            \n",
    "        return Z, A, output\n",
    "    # end feed forward\n",
    "    \n",
    "    def back_prop(self, n, mlp_input, Z, A, mlp_out, mlp_ground):\n",
    "        delta = np.multiply((mlp_out - mlp_ground),self.sigmoid_prime(Z[len(Z)-1])) \n",
    "        deltas = [delta]\n",
    "        for i in reversed(xrange(0,len(self.weights)-1)):\n",
    "            delta = np.multiply(np.dot(np.transpose(self.weights[i+1]),delta),self.sigmoid_prime(Z[i]))\n",
    "            deltas.insert(0,delta)\n",
    "        A.insert(0,mlp_input)\n",
    "        for i in reversed(xrange(0,len(self.weights))):\n",
    "            self.weights[i] = self.weights[i] - (self.learning_rate/n)*(np.dot(deltas[i],np.transpose(A[i])))\n",
    "            tmp = np.mean(deltas[i],axis=1)\n",
    "            tmp = np.matrix(tmp)\n",
    "            tmp = np.transpose(tmp)\n",
    "            self.bias[i] = self.bias[i] - ((self.learning_rate/n)*tmp)\n",
    "    # end back_prop\n",
    "    \n",
    "    def train(self, n, mlp_input, mlp_ground):\n",
    "        Z,A,mlp_out = self.feed_forward(mlp_input)\n",
    "        self.back_prop(n, mlp_input, Z, A, mlp_out, mlp_ground)    \n",
    "        return np.mean(abs(mlp_ground - mlp_out))\n",
    "    # end train\n",
    "        \n",
    "                            \n",
    "#     def toString(self):\n",
    "#         print \"PERCEPTRON STRUCTURE:\"\n",
    "#         print \"weights: \"\n",
    "#         print self.weights\n",
    "#         print \"bias: \"\n",
    "#         print self.bias\n",
    "#         return \" \""
   ]
  },
  {
   "cell_type": "markdown",
   "metadata": {},
   "source": [
    "#### Load XOR data\n",
    "\n",
    "testing out the MLP using XOR"
   ]
  },
  {
   "cell_type": "code",
   "execution_count": 2,
   "metadata": {
    "collapsed": false
   },
   "outputs": [
    {
     "name": "stderr",
     "output_type": "stream",
     "text": [
      "100%|██████████████████████████████████████████████████████████████████████████| 10000/10000 [00:02<00:00, 3898.64it/s]"
     ]
    },
    {
     "name": "stdout",
     "output_type": "stream",
     "text": [
      "FINAL MLP OUTPUT AFTER EPOCH:\n",
      "TRAINED      :  [[ 0.0072141   0.99487661  0.99487533  0.00461372]]\n",
      "GROUND TRUTH :  [[0 1 1 0]]\n"
     ]
    },
    {
     "name": "stderr",
     "output_type": "stream",
     "text": [
      "\n"
     ]
    },
    {
     "data": {
      "text/plain": [
       "[<matplotlib.lines.Line2D at 0x71a7f60>]"
      ]
     },
     "execution_count": 2,
     "metadata": {},
     "output_type": "execute_result"
    },
    {
     "data": {
      "image/png": "[encoded data removed]",
      "text/plain": [
       "<matplotlib.figure.Figure at 0x7019518>"
      ]
     },
     "metadata": {},
     "output_type": "display_data"
    }
   ],
   "source": [
    "# XOR_INPUT = [[0,0,1,1],\n",
    "#              [0,1,0,1]]\n",
    "# XOR_OUTPUT = [0,1,1,0]\n",
    "\n",
    "XOR_INPUT = np.transpose(np.array([[0,0],[0,1],[1,0],[1,1]]))\n",
    "XOR_OUTPUT =  np.transpose(np.array([[0],[1],[1],[0]]))\n",
    "XOR_N = len(XOR_INPUT)\n",
    "\n",
    "epoch_time = 10000\n",
    "\n",
    "# input_size = 2\n",
    "# output_size = 1\n",
    "# num_layers = 1\n",
    "# num_neurons = 3\n",
    "# learning_rate = 20.0\n",
    "mlp = MLP(2, 1, 1, 3, 20.0)\n",
    "\n",
    "results = []\n",
    "for i in tqdm(xrange(epoch_time)):\n",
    "    results.append(mlp.train(XOR_N, XOR_INPUT,XOR_OUTPUT))\n",
    "\n",
    "print \"FINAL MLP OUTPUT AFTER EPOCH:\"\n",
    "print \"TRAINED      : \", mlp.feed_forward(XOR_INPUT)[2]\n",
    "print \"GROUND TRUTH : \", XOR_OUTPUT\n",
    "\n",
    "plot(results)    \n",
    "\n",
    "# print \"\\n\\nMLP OUTPUT: \\n\", mlp_out\n",
    "# print \"Z\\n\",Z\n",
    "# print \"A\\n\",A\n",
    "\n"
   ]
  },
  {
   "cell_type": "markdown",
   "metadata": {},
   "source": [
    "#### Load MNIST data\n",
    "\n",
    "Using function from M Nielsen's online book"
   ]
  },
  {
   "cell_type": "code",
   "execution_count": 3,
   "metadata": {
    "collapsed": true
   },
   "outputs": [],
   "source": [
    "\"\"\"\n",
    "mnist_loader\n",
    "~~~~~~~~~~~~\n",
    "\n",
    "A library to load the MNIST image data.  For details of the data\n",
    "structures that are returned, see the doc strings for ``load_data``\n",
    "and ``load_data_wrapper``.  In practice, ``load_data_wrapper`` is the\n",
    "function usually called by our neural network code.\n",
    "\"\"\"\n",
    "\n",
    "#### Libraries\n",
    "# Standard library\n",
    "import cPickle\n",
    "import gzip\n",
    "\n",
    "# Third-party libraries\n",
    "import numpy as np\n",
    "\n",
    "def load_data():\n",
    "    \"\"\"Return the MNIST data as a tuple containing the training data,\n",
    "    the validation data, and the test data.\n",
    "\n",
    "    The ``training_data`` is returned as a tuple with two entries.\n",
    "    The first entry contains the actual training images.  This is a\n",
    "    numpy ndarray with 50,000 entries.  Each entry is, in turn, a\n",
    "    numpy ndarray with 784 values, representing the 28 * 28 = 784\n",
    "    pixels in a single MNIST image.\n",
    "\n",
    "    The second entry in the ``training_data`` tuple is a numpy ndarray\n",
    "    containing 50,000 entries.  Those entries are just the digit\n",
    "    values (0...9) for the corresponding images contained in the first\n",
    "    entry of the tuple.\n",
    "\n",
    "    The ``validation_data`` and ``test_data`` are similar, except\n",
    "    each contains only 10,000 images.\n",
    "\n",
    "    This is a nice data format, but for use in neural networks it's\n",
    "    helpful to modify the format of the ``training_data`` a little.\n",
    "    That's done in the wrapper function ``load_data_wrapper()``, see\n",
    "    below.\n",
    "    \"\"\"\n",
    "    f = gzip.open('./mnist.pkl.gz', 'rb')\n",
    "    training_data, validation_data, test_data = cPickle.load(f)\n",
    "    f.close()\n",
    "    return (training_data, validation_data, test_data)\n",
    "\n",
    "def load_data_wrapper():\n",
    "    \"\"\"Return a tuple containing ``(training_data, validation_data,\n",
    "    test_data)``. Based on ``load_data``, but the format is more\n",
    "    convenient for use in our implementation of neural networks.\n",
    "\n",
    "    In particular, ``training_data`` is a list containing 50,000\n",
    "    2-tuples ``(x, y)``.  ``x`` is a 784-dimensional numpy.ndarray\n",
    "    containing the input image.  ``y`` is a 10-dimensional\n",
    "    numpy.ndarray representing the unit vector corresponding to the\n",
    "    correct digit for ``x``.\n",
    "\n",
    "    ``validation_data`` and ``test_data`` are lists containing 10,000\n",
    "    2-tuples ``(x, y)``.  In each case, ``x`` is a 784-dimensional\n",
    "    numpy.ndarry containing the input image, and ``y`` is the\n",
    "    corresponding classification, i.e., the digit values (integers)\n",
    "    corresponding to ``x``.\n",
    "\n",
    "    Obviously, this means we're using slightly different formats for\n",
    "    the training data and the validation / test data.  These formats\n",
    "    turn out to be the most convenient for use in our neural network\n",
    "    code.\"\"\"\n",
    "    tr_d, va_d, te_d = load_data()\n",
    "    training_inputs = [np.reshape(x, (784, 1)) for x in tr_d[0]]\n",
    "    training_results = [vectorized_result(y) for y in tr_d[1]]\n",
    "    training_data = zip(training_inputs, training_results)\n",
    "    validation_inputs = [np.reshape(x, (784, 1)) for x in va_d[0]]\n",
    "    validation_data = zip(validation_inputs, va_d[1])\n",
    "    test_inputs = [np.reshape(x, (784, 1)) for x in te_d[0]]\n",
    "    test_data = zip(test_inputs, te_d[1])\n",
    "    return (training_data, validation_data, test_data)\n",
    "\n",
    "def vectorized_result(j):\n",
    "    \"\"\"Return a 10-dimensional unit vector with a 1.0 in the jth\n",
    "    position and zeroes elsewhere.  This is used to convert a digit\n",
    "    (0...9) into a corresponding desired output from the neural\n",
    "    network.\"\"\"\n",
    "    e = np.zeros((10, 1))\n",
    "    e[j] = 1.0\n",
    "    return e"
   ]
  },
  {
   "cell_type": "code",
   "execution_count": 4,
   "metadata": {
    "collapsed": false
   },
   "outputs": [],
   "source": [
    "training_data, validation_data, test_data = load_data_wrapper()"
   ]
  },
  {
   "cell_type": "code",
   "execution_count": 5,
   "metadata": {
    "collapsed": false
   },
   "outputs": [
    {
     "name": "stdout",
     "output_type": "stream",
     "text": [
      "SIZE OF TRAINING SET:  50000\n",
      "SIZE OF INPUT:  784\n",
      "SIZE OF OUTPUT:  10\n"
     ]
    }
   ],
   "source": [
    "np.shape(training_data)\n",
    "print \"SIZE OF TRAINING SET: \", len(training_data)\n",
    "print \"SIZE OF INPUT: \", len(training_data[0][0])\n",
    "print \"SIZE OF OUTPUT: \", len(training_data[0][1])\n"
   ]
  },
  {
   "cell_type": "code",
   "execution_count": 6,
   "metadata": {
    "collapsed": false
   },
   "outputs": [
    {
     "name": "stdout",
     "output_type": "stream",
     "text": [
      "SIZE OF TEST SET:  10000\n",
      "SIZE OF INPUT:  784\n",
      "SIZE OF OUTPUT:  1\n"
     ]
    }
   ],
   "source": [
    "np.shape(test_data)\n",
    "print \"SIZE OF TEST SET: \", len(test_data)\n",
    "print \"SIZE OF INPUT: \", len(test_data[0][0])\n",
    "print \"SIZE OF OUTPUT: \", 1\n"
   ]
  },
  {
   "cell_type": "code",
   "execution_count": 7,
   "metadata": {
    "collapsed": true
   },
   "outputs": [],
   "source": [
    "MNIST_INPUT = []\n",
    "for i in xrange(len(training_data)):\n",
    "    MNIST_INPUT.append(training_data[i][0].T[0])\n",
    "    \n",
    "MNIST_INPUT = np.transpose(np.array(MNIST_INPUT))\n",
    "\n",
    "MNIST_OUTPUT = []\n",
    "for i in xrange(len(training_data)):\n",
    "    MNIST_OUTPUT.append(training_data[i][1].T[0])\n",
    "    \n",
    "MNIST_OUTPUT = np.transpose(np.array(MNIST_OUTPUT))\n",
    "\n",
    "MNIST_N = len(MNIST_INPUT)"
   ]
  },
  {
   "cell_type": "code",
   "execution_count": 216,
   "metadata": {
    "collapsed": false
   },
   "outputs": [
    {
     "data": {
      "text/plain": [
       "50000"
      ]
     },
     "execution_count": 216,
     "metadata": {},
     "output_type": "execute_result"
    }
   ],
   "source": [
    "len(MNIST_OUTPUT[0])"
   ]
  },
  {
   "cell_type": "code",
   "execution_count": 222,
   "metadata": {
    "collapsed": false
   },
   "outputs": [
    {
     "name": "stderr",
     "output_type": "stream",
     "text": [
      "100%|████████████████████████████████████████████████████████████████████████████| 1000/1000 [2:11:07<00:00,  7.71s/it]\n"
     ]
    },
    {
     "data": {
      "text/plain": [
       "[<matplotlib.lines.Line2D at 0x15c358d0>]"
      ]
     },
     "execution_count": 222,
     "metadata": {},
     "output_type": "execute_result"
    },
    {
     "data": {
      "image/png": "[encoded data removed]",
      "text/plain": [
       "<matplotlib.figure.Figure at 0x1251e160>"
      ]
     },
     "metadata": {},
     "output_type": "display_data"
    }
   ],
   "source": [
    "epoch_time = 1000\n",
    "\n",
    "# input_size = 784\n",
    "# output_size = 10\n",
    "# num_layers = 3\n",
    "# num_neurons = 15\n",
    "# learning_rate = 1.0\n",
    "mlp = MLP(784, 10, 3, 15, 1.0)\n",
    "\n",
    "results = []\n",
    "for i in tqdm(xrange(epoch_time)):\n",
    "    results.append(mlp.train(MNIST_N, MNIST_INPUT,MNIST_OUTPUT))\n",
    "\n",
    "# print \"FINAL MLP OUTPUT AFTER EPOCH:\"\n",
    "# print \"TRAINED      : \", mlp.feed_forward(XOR_INPUT)[2]\n",
    "# print \"GROUND TRUTH : \", XOR_OUTPUT\n",
    "\n",
    "plot(results)    \n"
   ]
  },
  {
   "cell_type": "code",
   "execution_count": 162,
   "metadata": {
    "collapsed": false
   },
   "outputs": [
    {
     "data": {
      "text/plain": [
       "(784L, 1L)"
      ]
     },
     "execution_count": 162,
     "metadata": {},
     "output_type": "execute_result"
    }
   ],
   "source": [
    "training_data[0][0].shape"
   ]
  },
  {
   "cell_type": "code",
   "execution_count": 165,
   "metadata": {
    "collapsed": false
   },
   "outputs": [
    {
     "data": {
      "text/plain": [
       "array([[ 0.],\n",
       "       [ 0.],\n",
       "       [ 0.],\n",
       "       [ 0.],\n",
       "       [ 0.],\n",
       "       [ 1.],\n",
       "       [ 0.],\n",
       "       [ 0.],\n",
       "       [ 0.],\n",
       "       [ 0.]])"
      ]
     },
     "execution_count": 165,
     "metadata": {},
     "output_type": "execute_result"
    }
   ],
   "source": [
    "training_data[0][1]"
   ]
  },
  {
   "cell_type": "code",
   "execution_count": 223,
   "metadata": {
    "collapsed": false
   },
   "outputs": [
    {
     "name": "stderr",
     "output_type": "stream",
     "text": [
      "100%|█████████████████████████████████████████████████████████████████████████| 50000/50000 [00:01<00:00, 31847.14it/s]\n"
     ]
    },
    {
     "name": "stdout",
     "output_type": "stream",
     "text": [
      "TEST RESULTS: \n",
      "% correct:  84\n"
     ]
    }
   ],
   "source": [
    "MNIST_TEST_INPUT = []\n",
    "for i in xrange(len(training_data)):\n",
    "    MNIST_TEST_INPUT.append(training_data[i][0].T[0])\n",
    "    \n",
    "MNIST_TEST_INPUT = np.transpose(np.array(MNIST_TEST_INPUT))\n",
    "\n",
    "MNIST_N = len(MNIST_TEST_INPUT)\n",
    "\n",
    "\n",
    "output = mlp.feed_forward(MNIST_TEST_INPUT)[2]\n",
    "output = output.T\n",
    "\n",
    "correct = 0\n",
    "\n",
    "for i in tqdm(xrange(len(training_data))):\n",
    "    answer = np.where(output[i] == max(output[i]))[0][0]\n",
    "    if answer == np.where(training_data[i][1] == max(training_data[i][1]))[0][0]:\n",
    "        correct+=1\n",
    "\n",
    "print \"TEST RESULTS: \"\n",
    "print \"% correct: \", correct*100/len(training_data)"
   ]
  },
  {
   "cell_type": "code",
   "execution_count": 224,
   "metadata": {
    "collapsed": false
   },
   "outputs": [
    {
     "name": "stderr",
     "output_type": "stream",
     "text": [
      "100%|████████████████████████████████████████████████████████████████████████| 10000/10000 [00:00<00:00, 232558.23it/s]"
     ]
    },
    {
     "name": "stdout",
     "output_type": "stream",
     "text": [
      "TEST RESULTS: \n",
      "% correct:  16\n"
     ]
    },
    {
     "name": "stderr",
     "output_type": "stream",
     "text": [
      "\n"
     ]
    }
   ],
   "source": [
    "MNIST_TEST_INPUT = []\n",
    "for i in xrange(len(test_data)):\n",
    "    MNIST_TEST_INPUT.append(test_data[i][0].T[0])\n",
    "    \n",
    "MNIST_TEST_INPUT = np.transpose(np.array(MNIST_TEST_INPUT))\n",
    "\n",
    "MNIST_N = len(MNIST_TEST_INPUT)\n",
    "\n",
    "\n",
    "output = mlp.feed_forward(MNIST_TEST_INPUT)[2]\n",
    "output = output.T\n",
    "\n",
    "correct = 0\n",
    "\n",
    "for i in tqdm(xrange(len(test_data))):\n",
    "    answer = np.where(output[i] == max(output[i]))[0][0]\n",
    "    if answer == test_data[i][1]:\n",
    "        correct+=1\n",
    "\n",
    "print \"TEST RESULTS: \"\n",
    "print \"% correct: \", correct*100/len(training_data)"
   ]
  },
  {
   "cell_type": "code",
   "execution_count": 8,
   "metadata": {
    "collapsed": false
   },
   "outputs": [
    {
     "name": "stderr",
     "output_type": "stream",
     "text": [
      "100%|████████████████████████████████████████████████████████████████████████████████| 300/300 [29:12<00:00,  5.64s/it]\n"
     ]
    },
    {
     "data": {
      "text/plain": [
       "[<matplotlib.lines.Line2D at 0xf0fb240>]"
      ]
     },
     "execution_count": 8,
     "metadata": {},
     "output_type": "execute_result"
    },
    {
     "data": {
      "image/png": "[encoded data removed]",
      "text/plain": [
       "<matplotlib.figure.Figure at 0x7176dd8>"
      ]
     },
     "metadata": {},
     "output_type": "display_data"
    }
   ],
   "source": [
    "epoch_time = 300\n",
    "batch_size = 10\n",
    "\n",
    "# input_size = 784\n",
    "# output_size = 10\n",
    "# num_layers = 1\n",
    "# num_neurons = 15\n",
    "# learning_rate = 3.0\n",
    "mlp = MLP(784, 10, 1, 15, 3.0)\n",
    "\n",
    "results = []\n",
    "for i in tqdm(xrange(epoch_time)):\n",
    "    random.shuffle(training_data)\n",
    "    batches = []\n",
    "    for k in xrange(0, len(training_data) - batch_size, batch_size):\n",
    "        mini_batch = training_data[k:k+batch_size] # GET MINI BATCH FROM TRAINING DATA\n",
    "        batches.append(mini_batch)\n",
    "    for batch in batches:\n",
    "        # FORMAT INPUT FOR NEURAL NET\n",
    "        MNIST_INPUT = []\n",
    "        for i in xrange(len(mini_batch)):\n",
    "            MNIST_INPUT.append(mini_batch[i][0].T[0])\n",
    "        MNIST_INPUT = np.transpose(np.array(MNIST_INPUT))\n",
    "        MNIST_OUTPUT = []\n",
    "        for i in xrange(len(mini_batch)):\n",
    "            MNIST_OUTPUT.append(mini_batch[i][1].T[0])\n",
    "        MNIST_OUTPUT = np.transpose(np.array(MNIST_OUTPUT))\n",
    "        MNIST_N = len(MNIST_INPUT)\n",
    "        results.append(mlp.train(MNIST_N, MNIST_INPUT,MNIST_OUTPUT))\n",
    "\n",
    "# print \"FINAL MLP OUTPUT AFTER EPOCH:\"\n",
    "# print \"TRAINED      : \", mlp.feed_forward(XOR_INPUT)[2]\n",
    "# print \"GROUND TRUTH : \", XOR_OUTPUT\n",
    "\n",
    "plot(results)    "
   ]
  },
  {
   "cell_type": "code",
   "execution_count": 9,
   "metadata": {
    "collapsed": false
   },
   "outputs": [
    {
     "name": "stderr",
     "output_type": "stream",
     "text": [
      "100%|████████████████████████████████████████████████████████████████████████████████| 300/300 [28:50<00:00,  5.84s/it]\n"
     ]
    },
    {
     "data": {
      "text/plain": [
       "[<matplotlib.lines.Line2D at 0xf479b70>]"
      ]
     },
     "execution_count": 9,
     "metadata": {},
     "output_type": "execute_result"
    },
    {
     "data": {
      "image/png": "[encoded data removed]",
      "text/plain": [
       "<matplotlib.figure.Figure at 0xf229860>"
      ]
     },
     "metadata": {},
     "output_type": "display_data"
    }
   ],
   "source": [
    "results = []\n",
    "for i in tqdm(xrange(epoch_time)):\n",
    "    random.shuffle(training_data)\n",
    "    batches = []\n",
    "    for k in xrange(0, len(training_data) - batch_size, batch_size):\n",
    "        mini_batch = training_data[k:k+batch_size] # GET MINI BATCH FROM TRAINING DATA\n",
    "        batches.append(mini_batch)\n",
    "    for batch in batches:\n",
    "        # FORMAT INPUT FOR NEURAL NET\n",
    "        MNIST_INPUT = []\n",
    "        for i in xrange(len(mini_batch)):\n",
    "            MNIST_INPUT.append(mini_batch[i][0].T[0])\n",
    "        MNIST_INPUT = np.transpose(np.array(MNIST_INPUT))\n",
    "        MNIST_OUTPUT = []\n",
    "        for i in xrange(len(mini_batch)):\n",
    "            MNIST_OUTPUT.append(mini_batch[i][1].T[0])\n",
    "        MNIST_OUTPUT = np.transpose(np.array(MNIST_OUTPUT))\n",
    "        MNIST_N = len(MNIST_INPUT)\n",
    "        results.append(mlp.train(MNIST_N, MNIST_INPUT,MNIST_OUTPUT))\n",
    "\n",
    "# print \"FINAL MLP OUTPUT AFTER EPOCH:\"\n",
    "# print \"TRAINED      : \", mlp.feed_forward(XOR_INPUT)[2]\n",
    "# print \"GROUND TRUTH : \", XOR_OUTPUT\n",
    "\n",
    "plot(results)    "
   ]
  },
  {
   "cell_type": "code",
   "execution_count": 10,
   "metadata": {
    "collapsed": false
   },
   "outputs": [
    {
     "name": "stderr",
     "output_type": "stream",
     "text": [
      "100%|████████████████████████████████████████████████████████████████████████| 10000/10000 [00:00<00:00, 129870.29it/s]"
     ]
    },
    {
     "name": "stdout",
     "output_type": "stream",
     "text": [
      "TEST RESULTS: \n",
      "% correct:  86\n"
     ]
    },
    {
     "name": "stderr",
     "output_type": "stream",
     "text": [
      "\n"
     ]
    }
   ],
   "source": [
    "MNIST_TEST_INPUT = []\n",
    "for i in xrange(len(test_data)):\n",
    "    MNIST_TEST_INPUT.append(test_data[i][0].T[0])\n",
    "    \n",
    "MNIST_TEST_INPUT = np.transpose(np.array(MNIST_TEST_INPUT))\n",
    "\n",
    "MNIST_N = len(MNIST_TEST_INPUT)\n",
    "\n",
    "\n",
    "output = mlp.feed_forward(MNIST_TEST_INPUT)[2]\n",
    "output = output.T\n",
    "\n",
    "correct = 0\n",
    "\n",
    "for i in tqdm(xrange(len(test_data))):\n",
    "    answer = np.where(output[i] == max(output[i]))[0][0]\n",
    "    if answer == test_data[i][1]:\n",
    "        correct+=1\n",
    "\n",
    "print \"TEST RESULTS: \"\n",
    "print \"% correct: \", correct*100/len(test_data)"
   ]
  },
  {
   "cell_type": "markdown",
   "metadata": {},
   "source": [
    "#### CIFAR10"
   ]
  },
  {
   "cell_type": "code",
   "execution_count": 233,
   "metadata": {
    "collapsed": false
   },
   "outputs": [
    {
     "ename": "ImportError",
     "evalue": "No module named scipy",
     "output_type": "error",
     "traceback": [
      "\u001b[1;31m---------------------------------------------------------------------------\u001b[0m",
      "\u001b[1;31mImportError\u001b[0m                               Traceback (most recent call last)",
      "\u001b[1;32m<ipython-input-233-8fd979e02004>\u001b[0m in \u001b[0;36m<module>\u001b[1;34m()\u001b[0m\n\u001b[1;32m----> 1\u001b[1;33m \u001b[1;32mimport\u001b[0m \u001b[0msklearn\u001b[0m\u001b[1;33m\u001b[0m\u001b[0m\n\u001b[0m",
      "\u001b[1;32mc:\\python27\\lib\\site-packages\\sklearn\\__init__.py\u001b[0m in \u001b[0;36m<module>\u001b[1;34m()\u001b[0m\n\u001b[0;32m     55\u001b[0m \u001b[1;32melse\u001b[0m\u001b[1;33m:\u001b[0m\u001b[1;33m\u001b[0m\u001b[0m\n\u001b[0;32m     56\u001b[0m     \u001b[1;32mfrom\u001b[0m \u001b[1;33m.\u001b[0m \u001b[1;32mimport\u001b[0m \u001b[0m__check_build\u001b[0m\u001b[1;33m\u001b[0m\u001b[0m\n\u001b[1;32m---> 57\u001b[1;33m     \u001b[1;32mfrom\u001b[0m \u001b[1;33m.\u001b[0m\u001b[0mbase\u001b[0m \u001b[1;32mimport\u001b[0m \u001b[0mclone\u001b[0m\u001b[1;33m\u001b[0m\u001b[0m\n\u001b[0m\u001b[0;32m     58\u001b[0m     \u001b[0m__check_build\u001b[0m  \u001b[1;31m# avoid flakes unused variable error\u001b[0m\u001b[1;33m\u001b[0m\u001b[0m\n\u001b[0;32m     59\u001b[0m \u001b[1;33m\u001b[0m\u001b[0m\n",
      "\u001b[1;32mc:\\python27\\lib\\site-packages\\sklearn\\base.py\u001b[0m in \u001b[0;36m<module>\u001b[1;34m()\u001b[0m\n\u001b[0;32m      8\u001b[0m \u001b[1;33m\u001b[0m\u001b[0m\n\u001b[0;32m      9\u001b[0m \u001b[1;32mimport\u001b[0m \u001b[0mnumpy\u001b[0m \u001b[1;32mas\u001b[0m \u001b[0mnp\u001b[0m\u001b[1;33m\u001b[0m\u001b[0m\n\u001b[1;32m---> 10\u001b[1;33m \u001b[1;32mfrom\u001b[0m \u001b[0mscipy\u001b[0m \u001b[1;32mimport\u001b[0m \u001b[0msparse\u001b[0m\u001b[1;33m\u001b[0m\u001b[0m\n\u001b[0m\u001b[0;32m     11\u001b[0m \u001b[1;32mfrom\u001b[0m \u001b[1;33m.\u001b[0m\u001b[0mexternals\u001b[0m \u001b[1;32mimport\u001b[0m \u001b[0msix\u001b[0m\u001b[1;33m\u001b[0m\u001b[0m\n\u001b[0;32m     12\u001b[0m \u001b[1;32mfrom\u001b[0m \u001b[1;33m.\u001b[0m\u001b[0mutils\u001b[0m\u001b[1;33m.\u001b[0m\u001b[0mfixes\u001b[0m \u001b[1;32mimport\u001b[0m \u001b[0msignature\u001b[0m\u001b[1;33m\u001b[0m\u001b[0m\n",
      "\u001b[1;31mImportError\u001b[0m: No module named scipy"
     ]
    }
   ],
   "source": [
    "import sklearn"
   ]
  },
  {
   "cell_type": "code",
   "execution_count": null,
   "metadata": {
    "collapsed": true
   },
   "outputs": [],
   "source": []
  }
 ],
 "metadata": {
  "kernelspec": {
   "display_name": "Python 2",
   "language": "python",
   "name": "python2"
  },
  "language_info": {
   "codemirror_mode": {
    "name": "ipython",
    "version": 2
   },
   "file_extension": ".py",
   "mimetype": "text/x-python",
   "name": "python",
   "nbconvert_exporter": "python",
   "pygments_lexer": "ipython2",
   "version": "2.7.12"
  }
 },
 "nbformat": 4,
 "nbformat_minor": 0
}
